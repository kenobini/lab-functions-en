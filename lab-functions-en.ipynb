{
 "cells": [
  {
   "cell_type": "markdown",
   "metadata": {},
   "source": [
    "# Functions"
   ]
  },
  {
   "cell_type": "markdown",
   "metadata": {},
   "source": [
    "On this lab we will put to practice some of the concepts we have learned on this past few days.\n",
    "\n",
    "`NOTE: On this lab you should try to write all the functions yourself using only the most basic of python syntax and without functions such as len, count, sum, max, min, in, etc. Give it a try. 🧑🏻‍💻👩🏻‍💻`\n",
    "\n",
    "The cell after each exercise contains a few tests to check if your function works as expected."
   ]
  },
  {
   "cell_type": "code",
   "execution_count": 5,
   "metadata": {},
   "outputs": [
    {
     "ename": "ModuleNotFoundError",
     "evalue": "No module named 'mod'",
     "output_type": "error",
     "traceback": [
      "\u001b[0;31m---------------------------------------------------------------------------\u001b[0m",
      "\u001b[0;31mModuleNotFoundError\u001b[0m                       Traceback (most recent call last)",
      "Cell \u001b[0;32mIn[5], line 1\u001b[0m\n\u001b[0;32m----> 1\u001b[0m \u001b[38;5;28;01mfrom\u001b[39;00m \u001b[38;5;21;01mmod\u001b[39;00m\u001b[38;5;21;01m.\u001b[39;00m\u001b[38;5;21;01mtesting\u001b[39;00m \u001b[38;5;28;01mimport\u001b[39;00m \u001b[38;5;241m*\u001b[39m\n\u001b[1;32m      2\u001b[0m \u001b[38;5;28;01mimport\u001b[39;00m \u001b[38;5;21;01munittest\u001b[39;00m\n",
      "\u001b[0;31mModuleNotFoundError\u001b[0m: No module named 'mod'"
     ]
    }
   ],
   "source": [
    "from mod.testing import *\n",
    "import unittest"
   ]
  },
  {
   "cell_type": "markdown",
   "metadata": {},
   "source": [
    "## 1. Write a function that returns the greater of two numbers"
   ]
  },
  {
   "cell_type": "code",
   "execution_count": 25,
   "metadata": {},
   "outputs": [],
   "source": [
    "a = 10\n",
    "b = 5 \n",
    "\n",
    "def greater(a,b):\n",
    "    if a > b:\n",
    "        return a\n",
    "    else:\n",
    "        return b"
   ]
  },
  {
   "cell_type": "code",
   "execution_count": 29,
   "metadata": {},
   "outputs": [
    {
     "name": "stdout",
     "output_type": "stream",
     "text": [
      "All test cases passed\n"
     ]
    }
   ],
   "source": [
    "# This will test your function \n",
    "def test_greater(greater):\n",
    "    assert greater(5, 10) == 10, \"Test failed, 5, 10\"\n",
    "    assert greater(10, 5) == 10, \"Test failed: 10, 5\"\n",
    "    assert greater(0, 0) == 0, \"Test failed: 0, 0\"\n",
    "    print(\"All test cases passed\")\n",
    "\n",
    "test_greater(greater)"
   ]
  },
  {
   "cell_type": "code",
   "execution_count": null,
   "metadata": {},
   "outputs": [],
   "source": [
    "#your code here"
   ]
  },
  {
   "cell_type": "markdown",
   "metadata": {},
   "source": [
    "## 2. Now write a function that returns the largest element on a list"
   ]
  },
  {
   "cell_type": "code",
   "execution_count": 33,
   "metadata": {},
   "outputs": [],
   "source": [
    "def greatest(lst):\n",
    "    largest = lst[0]\n",
    "    \n",
    "    for num in lst:\n",
    "        if num > largest:\n",
    "            largest = num\n",
    "            \n",
    "    return largest"
   ]
  },
  {
   "cell_type": "code",
   "execution_count": 35,
   "metadata": {},
   "outputs": [
    {
     "name": "stdout",
     "output_type": "stream",
     "text": [
      "All tests passed!\n"
     ]
    }
   ],
   "source": [
    "# This will test your function \n",
    "def test_greatest(greatest):\n",
    "    lst = [1, 2, 3, 4, 5, 6, 7]\n",
    "\n",
    "    assert greatest(lst) == 7, \"Test failed: greatest([1,2,3,4,5,6,7])\"\n",
    "    assert greatest([7, 6, 5, 4, 3, 2, 1]) == 7, \"Test failed: greatest([7,6,5,4,3,2,1])\"\n",
    "    assert greatest([1, 3, 5, 2, 4]) == 5, \"Test failed: greatest([1,3,5,2,4])\"\n",
    "    assert greatest([-1, -2, -3, -4]) == -1, \"Test failed: greatest([-1,-2,-3,-4])\"\n",
    "    assert greatest([0, 0, 0, 0]) == 0, \"Test failed: greatest([0,0,0,0])\"\n",
    "    \n",
    "    print(\"All tests passed!\")\n",
    "\n",
    "test_greatest(greatest)"
   ]
  },
  {
   "cell_type": "markdown",
   "metadata": {},
   "source": [
    "## 3. Write a function that sums all the elements on a list"
   ]
  },
  {
   "cell_type": "code",
   "execution_count": 43,
   "metadata": {},
   "outputs": [],
   "source": [
    "lst = [1, 2, 3, 4, 5, 6, 7]\n",
    "\n",
    "def sum_all(lst):\n",
    "    total = 0\n",
    "\n",
    "    for num in lst:\n",
    "        total += num\n",
    "\n",
    "    return total"
   ]
  },
  {
   "cell_type": "code",
   "execution_count": 45,
   "metadata": {
    "scrolled": true
   },
   "outputs": [
    {
     "name": "stdout",
     "output_type": "stream",
     "text": [
      "All tests passed!\n"
     ]
    }
   ],
   "source": [
    "# This will test your function \n",
    "def test_sum(sum_all):\n",
    "    assert sum_all(lst) == 28, \"Test failed: sum_all([1,2,3,4,5,6,7])\"\n",
    "    assert sum_all([7, 6, 5, 4, 3, 2, 1]) == 28, \"Test failed: sum_all([7,6,5,4,3,2,1])\"\n",
    "    assert sum_all([1, 3, 5, 2, 4]) == 15, \"Test failed: sum_all([1,3,5,2,4])\"\n",
    "    assert sum_all([10, 20, 30, 40]) == 100, \"Test failed: sum_all([10,20,30,40])\"\n",
    "    assert sum_all([0, 0, 0, 0]) == 0, \"Test failed: sum_all([0,0,0,0])\"\n",
    "    assert sum_all([-1, -2, -3, -4]) == -10, \"Test failed: sum_all([-1,-2,-3,-4])\"\n",
    "    \n",
    "    print(\"All tests passed!\")\n",
    "\n",
    "test_sum(sum_all)"
   ]
  },
  {
   "cell_type": "markdown",
   "metadata": {},
   "source": [
    "## 4. Write another function that multiplies all the elements on a list"
   ]
  },
  {
   "cell_type": "code",
   "execution_count": 47,
   "metadata": {},
   "outputs": [],
   "source": [
    "def mult_all(lst):\n",
    "    product =1\n",
    "\n",
    "    for num in lst:\n",
    "        product *= num\n",
    "\n",
    "    return product"
   ]
  },
  {
   "cell_type": "code",
   "execution_count": 49,
   "metadata": {
    "scrolled": true
   },
   "outputs": [
    {
     "name": "stdout",
     "output_type": "stream",
     "text": [
      "All tests passed!\n"
     ]
    }
   ],
   "source": [
    "# This will test your function \n",
    "def test_mult(mult_all):\n",
    "    lst = [1, 2, 3, 4, 5, 6, 7]\n",
    "\n",
    "    assert mult_all(lst) == 5040, \"Test failed: mult_all([1,2,3,4,5,6,7])\"\n",
    "    assert mult_all([7, 6, 5, 4, 3, 2, 1]) == 5040, \"Test failed: mult_all([7,6,5,4,3,2,1])\"\n",
    "    assert mult_all([1, 3, 5, 2, 4]) == 120, \"Test failed: mult_all([1,3,5,2,4])\"\n",
    "    assert mult_all([10, 20, 30]) == 6000, \"Test failed: mult_all([10,20,30])\"\n",
    "    assert mult_all([1, 1, 1, 1]) == 1, \"Test failed: mult_all([1,1,1,1])\"\n",
    "    assert mult_all([0, 5, 6, 7]) == 0, \"Test failed: mult_all([0,5,6,7])\"\n",
    "    \n",
    "    print(\"All tests passed!\")\n",
    "\n",
    "test_mult(mult_all)"
   ]
  },
  {
   "cell_type": "markdown",
   "metadata": {},
   "source": [
    "## 5. Now combine those two ideas and write a function that receives a list and either \"+\" or \"*\" and outputs acordingly"
   ]
  },
  {
   "cell_type": "code",
   "execution_count": 51,
   "metadata": {},
   "outputs": [],
   "source": [
    "def oper_all(arr, oper = \"*\"):\n",
    "    if oper == \"+\":\n",
    "        result = 0  # Start with 0 for addition\n",
    "        for num in arr:\n",
    "            result += num\n",
    "    elif oper == \"*\":\n",
    "        result = 1  # Start with 1 for multiplication\n",
    "        for num in arr:\n",
    "            result *= num\n",
    "    else:\n",
    "        raise ValueError(\"Invalid operator. Use '+' or '*' only.\")\n",
    "    \n",
    "    return result"
   ]
  },
  {
   "cell_type": "code",
   "execution_count": 53,
   "metadata": {},
   "outputs": [
    {
     "name": "stdout",
     "output_type": "stream",
     "text": [
      "All tests passed!\n"
     ]
    }
   ],
   "source": [
    "# This will test your function \n",
    "def test_operations(oper_all):\n",
    "    assert oper_all([1, 2, 3, 4, 5, 6, 7], \"+\") == 28, \"Test failed: oper_all([1,2,3,4,5,6,7], '+')\"\n",
    "    assert oper_all([1, 2, 3, 4, 5, 6, 7], \"*\") == 5040, \"Test failed: oper_all([1,2,3,4,5,6,7], '*')\"\n",
    "    assert oper_all([1, 3, 5, 2, 4], \"+\") == 15, \"Test failed: oper_all([1,3,5,2,4], '+')\"\n",
    "    assert oper_all([10, 20, 30], \"*\") == 6000, \"Test failed: oper_all([10,20,30], '*')\"\n",
    "    assert oper_all([1, 1, 1, 1], \"+\") == 4, \"Test failed: oper_all([1,1,1,1], '+')\"\n",
    "    assert oper_all([1, 1, 1, 1], \"*\") == 1, \"Test failed: oper_all([1,1,1,1], '*')\"\n",
    "    assert oper_all([0, 5, 6, 7], \"+\") == 18, \"Test failed: oper_all([0,5,6,7], '+')\"\n",
    "    assert oper_all([0, 5, 6, 7], \"*\") == 0, \"Test failed: oper_all([0,5,6,7], '*')\"\n",
    "    \n",
    "    print(\"All tests passed!\")\n",
    "\n",
    "test_operations(oper_all)"
   ]
  },
  {
   "cell_type": "markdown",
   "metadata": {},
   "source": [
    "## 6. Write a function that returns the factorial of a number."
   ]
  },
  {
   "cell_type": "code",
   "execution_count": 55,
   "metadata": {},
   "outputs": [],
   "source": [
    "def factorial(n):\n",
    "    result = 1 \n",
    "\n",
    "    for i in range(1, n + 1):\n",
    "        result *= i \n",
    "\n",
    "    return result"
   ]
  },
  {
   "cell_type": "code",
   "execution_count": 57,
   "metadata": {},
   "outputs": [],
   "source": [
    "#factorial formula\n",
    "#n! = n * ( n - 1 ) *...*1\n",
    "\n",
    "# This code defines a function called \"factorial\" which takes an input \"n\". The function uses a for loop to iterate through the range of numbers \n",
    "# from 1 to n+1. For each number in that range, it multiplies the current value of x by the number in the range. At the end of the loop, \n",
    "# the function returns the final value of x, which will be the factorial of the input number \"n\".\n",
    "\n",
    "# The Factorial of a positive integer n is the product of all positive integers less than or equal to n. \n",
    "# For example, the factorial of 6 (written \"6!\") is 6 * 5 * 4 * 3 * 2 * 1 = 720.\n",
    "\n",
    "# So this function takes an input of any positive integer, and returns the factorial of that number."
   ]
  },
  {
   "cell_type": "code",
   "execution_count": 59,
   "metadata": {},
   "outputs": [
    {
     "name": "stdout",
     "output_type": "stream",
     "text": [
      "All tests passed!\n"
     ]
    }
   ],
   "source": [
    "def test_factorial(factorial):\n",
    "    assert factorial(0) == 1, \"Test failed: factorial(0)\"\n",
    "    assert factorial(1) == 1, \"Test failed: factorial(1)\"\n",
    "    assert factorial(2) == 2, \"Test failed: factorial(2)\"\n",
    "    assert factorial(3) == 6, \"Test failed: factorial(3)\"\n",
    "    assert factorial(4) == 24, \"Test failed: factorial(4)\"\n",
    "    assert factorial(5) == 120, \"Test failed: factorial(5)\"\n",
    "    assert factorial(6) == 720, \"Test failed: factorial(6)\"\n",
    "    \n",
    "    print(\"All tests passed!\")\n",
    "\n",
    "test_factorial(factorial)"
   ]
  },
  {
   "cell_type": "code",
   "execution_count": 63,
   "metadata": {},
   "outputs": [
    {
     "name": "stdout",
     "output_type": "stream",
     "text": [
      "24\n",
      "5040\n"
     ]
    }
   ],
   "source": [
    "print(factorial(4))\n",
    "print(factorial(7))"
   ]
  },
  {
   "cell_type": "markdown",
   "metadata": {},
   "source": [
    "## 7. Write a function that takes a list and returns a list of the unique values.\n",
    "\n",
    "`NOTE: You cannot use set. 🤔`"
   ]
  },
  {
   "cell_type": "code",
   "execution_count": 65,
   "metadata": {},
   "outputs": [],
   "source": [
    "def unique(lst_un):\n",
    "    unique_list = [] \n",
    "    \n",
    "    for num in lst_un:\n",
    "        \n",
    "        if num not in unique_list:\n",
    "            unique_list.append(num)\n",
    "    \n",
    "    return unique_list"
   ]
  },
  {
   "cell_type": "code",
   "execution_count": 67,
   "metadata": {},
   "outputs": [
    {
     "name": "stdout",
     "output_type": "stream",
     "text": [
      "All tests passed!\n"
     ]
    }
   ],
   "source": [
    "def test_unique(unique):\n",
    "    lst = [1, 2, 3, 4, 5, 6, 7, 1, 2, 3]\n",
    "    \n",
    "    assert unique(lst) == [1, 2, 3, 4, 5, 6, 7], \"Test failed: unique([1, 2, 3, 4, 5, 6, 7, 1, 2, 3])\"\n",
    "    assert unique([10, 20, 30, 10, 20, 30]) == [10, 20, 30], \"Test failed: unique([10, 20, 30, 10, 20, 30])\"\n",
    "    assert unique([5, 5, 5, 5, 5]) == [5], \"Test failed: unique([5, 5, 5, 5, 5])\"\n",
    "    assert unique([0, 0, 0, 0]) == [0], \"Test failed: unique([0, 0, 0, 0])\"\n",
    "    assert unique([1, 2, 3, 4, 5]) == [1, 2, 3, 4, 5], \"Test failed: unique([1, 2, 3, 4, 5])\"\n",
    "    \n",
    "    print(\"All tests passed!\")\n",
    "\n",
    "test_unique(unique)"
   ]
  },
  {
   "cell_type": "markdown",
   "metadata": {},
   "source": [
    "## 8. Write a function that returns the mode of a list, i.e.: the element that appears the most times.\n",
    "`NOTE: You should not use count... 🧐`"
   ]
  },
  {
   "cell_type": "code",
   "execution_count": 69,
   "metadata": {},
   "outputs": [],
   "source": [
    "def mode_counter(arr):\n",
    "    frequency = {}  \n",
    "    \n",
    "    for num in arr:\n",
    "        if num in frequency:\n",
    "            frequency[num] += 1  # If the number is already in the dictionary, increment its count\n",
    "        else:\n",
    "            frequency[num] = 1  # Otherwise, initialize its count to 1\n",
    "    \n",
    "    mode = None\n",
    "    max_count = 0\n",
    "    \n",
    "    for num, count in frequency.items():\n",
    "        if count > max_count:\n",
    "            max_count = count\n",
    "            mode = num\n",
    "    \n",
    "    return mode"
   ]
  },
  {
   "cell_type": "code",
   "execution_count": 71,
   "metadata": {},
   "outputs": [
    {
     "name": "stdout",
     "output_type": "stream",
     "text": [
      "All tests passed!\n"
     ]
    }
   ],
   "source": [
    "def test_mode(mode_counter):\n",
    "    lst = [1, 2, 3, 4, 4, 4, 5, 6, 7]\n",
    "    \n",
    "    # Test cases to check the function\n",
    "    assert mode_counter(lst) == 4, \"Test failed: mode_counter([1, 2, 3, 4, 4, 4, 5, 6, 7])\"\n",
    "    assert mode_counter([10, 10, 20, 20, 30]) == 10, \"Test failed: mode_counter([10, 10, 20, 20, 30])\"\n",
    "    assert mode_counter([1, 2, 3, 4, 5]) == 1, \"Test failed: mode_counter([1, 2, 3, 4, 5])\"\n",
    "    assert mode_counter([1, 2, 2, 3, 3, 3]) == 3, \"Test failed: mode_counter([1, 2, 2, 3, 3, 3])\"\n",
    "    assert mode_counter([0, 0, 0, 0]) == 0, \"Test failed: mode_counter([0, 0, 0, 0])\"\n",
    "    \n",
    "    print(\"All tests passed!\")\n",
    "\n",
    "test_mode(mode_counter)"
   ]
  },
  {
   "cell_type": "markdown",
   "metadata": {},
   "source": [
    "## 9. Write a function that calculates the standard deviation of a list.\n",
    "`NOTE: Do not use any libraries or already built functions. 😉`"
   ]
  },
  {
   "cell_type": "code",
   "execution_count": 75,
   "metadata": {},
   "outputs": [],
   "source": [
    "def st_dev(list_sd):\n",
    "    # Step 1: Calculate the mean\n",
    "    total = 0\n",
    "    for num in list_sd:\n",
    "        total += num\n",
    "    \n",
    "    mean = total / len(list_sd)\n",
    "    \n",
    "    # Step 2: Calculate the squared differences from the mean\n",
    "    squared_diffs = 0\n",
    "    for num in list_sd:\n",
    "        squared_diffs += (num - mean) ** 2\n",
    "    \n",
    "    # Step 3: Calculate the variance (average of squared differences)\n",
    "    variance = squared_diffs / len(list_sd)\n",
    "    \n",
    "    # Step 4: Calculate the standard deviation (square root of variance)\n",
    "    std_dev = variance ** 0.5\n",
    "    \n",
    "    return std_dev"
   ]
  },
  {
   "cell_type": "code",
   "execution_count": 77,
   "metadata": {},
   "outputs": [
    {
     "name": "stdout",
     "output_type": "stream",
     "text": [
      "All tests passed!\n"
     ]
    }
   ],
   "source": [
    "def test_stdev(st_dev):\n",
    "    # Test cases to check the function\n",
    "    lst = [1, 2, 3, 4, 5, 6, 7]\n",
    "    \n",
    "    # Test cases\n",
    "    assert st_dev(lst) == 2.0, \"Test failed: st_dev([1, 2, 3, 4, 5, 6, 7])\"\n",
    "    assert st_dev([10, 20, 30, 40, 50]) == 14.142135623730951, \"Test failed: st_dev([10, 20, 30, 40, 50])\"\n",
    "    assert st_dev([1, 1, 1, 1, 1]) == 0.0, \"Test failed: st_dev([1, 1, 1, 1, 1])\"\n",
    "    assert st_dev([0, 0, 0, 0]) == 0.0, \"Test failed: st_dev([0, 0, 0, 0])\"\n",
    "    assert st_dev([1, 2, 3, 4, 5]) == 1.4142135623730951, \"Test failed: st_dev([1, 2, 3, 4, 5])\"\n",
    "    \n",
    "    print(\"All tests passed!\")\n",
    "\n",
    "# Running the test\n",
    "test_stdev(st_dev)"
   ]
  },
  {
   "cell_type": "code",
   "execution_count": 79,
   "metadata": {},
   "outputs": [
    {
     "name": "stdout",
     "output_type": "stream",
     "text": [
      "2.0\n"
     ]
    }
   ],
   "source": [
    "print(st_dev([1, 2, 3, 4, 5, 6, 7]))"
   ]
  },
  {
   "cell_type": "markdown",
   "metadata": {},
   "source": [
    "## 10. Write a function to check if a string is a pangram, i.e.: if it contains all the letters of the alphabet at least once. Mind that the strings may contain characters that are not letters."
   ]
  },
  {
   "cell_type": "code",
   "execution_count": 89,
   "metadata": {},
   "outputs": [],
   "source": [
    "def pangram(string):\n",
    "    # Set to store unique letters\n",
    "    letters = set()\n",
    "    \n",
    "    # Iterate through the string\n",
    "    for char in string:\n",
    "        # If the character is a letter, convert it to lowercase and add to the set\n",
    "        if char.isalpha():\n",
    "            letters.add(char.lower())\n",
    "    \n",
    "    # If the set contains all 26 letters, it's a pangram\n",
    "    return len(letters) == 26"
   ]
  },
  {
   "cell_type": "code",
   "execution_count": 97,
   "metadata": {},
   "outputs": [
    {
     "name": "stdout",
     "output_type": "stream",
     "text": [
      "All tests passed!\n"
     ]
    }
   ],
   "source": [
    "def test_pangram(pangram):\n",
    "    assert pangram(\"Pickleball is the best sport in the world\") == False, \"Test failed: pangram('Pickleball is the best sport in the world')\"\n",
    "    assert pangram(\"The quick brown fox jumps over the lazy dog.\") == True, \"Test failed: pangram('The quick brown fox jumps over the lazy dog.')\"\n",
    "    assert pangram(\"Hello, World!\") == False, \"Test failed: pangram('Hello, World!')\"\n",
    "    assert pangram(\"abcdefghijklmnopqrstuvwxyz\") == True, \"Test failed: pangram('abcdefghijklmnopqrstuvwxyz')\"\n",
    "    assert pangram(\"a quick brown fox jumps over the lazy dog\") == True, \"Test failed: pangram('a quick brown fox jumps over the lazy dog')\"\n",
    "    \n",
    "    print(\"All tests passed!\")\n",
    "\n",
    "test_pangram(pangram)"
   ]
  },
  {
   "cell_type": "code",
   "execution_count": 99,
   "metadata": {},
   "outputs": [
    {
     "name": "stdout",
     "output_type": "stream",
     "text": [
      "False\n",
      "False\n"
     ]
    }
   ],
   "source": [
    "print(pangram(\"Pickleball is the best sport in the world!\"))  \n",
    "print(pangram(\"Hello, World!\"))  "
   ]
  },
  {
   "cell_type": "markdown",
   "metadata": {},
   "source": [
    "## 11. Write a function that receives a string of comma separated words and returns a string of comma separated words sorted alphabetically.\n",
    "\n",
    "`NOTE: You may use sorted but not split and definitely no join! 🤪`"
   ]
  },
  {
   "cell_type": "code",
   "execution_count": 101,
   "metadata": {},
   "outputs": [],
   "source": [
    "def sort_alpha(string):\n",
    "    # Manually extract words from the string (using commas as delimiters)\n",
    "    words = []\n",
    "    word = \"\"\n",
    "    \n",
    "    for char in string:\n",
    "        if char == \",\":\n",
    "            words.append(word.strip())  # Add the word to the list\n",
    "            word = \"\"  # Reset the word\n",
    "        else:\n",
    "            word += char  # Build the current word character by character\n",
    "    \n",
    "    # Add the last word (in case the string doesn't end with a comma)\n",
    "    if word:\n",
    "        words.append(word.strip())\n",
    "    \n",
    "    # Sort the words alphabetically\n",
    "    words_sorted = []\n",
    "    while words:\n",
    "        # Find the smallest word lexicographically\n",
    "        smallest_word = words[0]\n",
    "        for w in words:\n",
    "            if w < smallest_word:\n",
    "                smallest_word = w\n",
    "        words_sorted.append(smallest_word)\n",
    "        words.remove(smallest_word)  # Remove the smallest word\n",
    "    \n",
    "    # Reconstruct the sorted string by manually joining the words with commas\n",
    "    sorted_string = \"\"\n",
    "    for i in range(len(words_sorted)):\n",
    "        sorted_string += words_sorted[i]\n",
    "        if i != len(words_sorted) - 1:  # Avoid adding a comma at the end\n",
    "            sorted_string += \", \"\n",
    "    \n",
    "    return sorted_string"
   ]
  },
  {
   "cell_type": "code",
   "execution_count": 103,
   "metadata": {},
   "outputs": [
    {
     "name": "stdout",
     "output_type": "stream",
     "text": [
      "All tests passed!\n"
     ]
    }
   ],
   "source": [
    "def test_alpha(sort_alpha):\n",
    "    assert sort_alpha(\"Pickleball, is, the, best, sport, in, the, world\") == \"Pickleball, best, in, is, sport, the, the, world\", \"Test failed: sort_alpha('Pickleball, is, the, best, sport, in, the, world')\"\n",
    "    assert sort_alpha(\"apple, orange, banana, grape\") == \"apple, banana, grape, orange\", \"Test failed: sort_alpha('apple, orange, banana, grape')\"\n",
    "    assert sort_alpha(\"zebra, ant, monkey, lion, dog\") == \"ant, dog, lion, monkey, zebra\", \"Test failed: sort_alpha('zebra, ant, monkey, lion, dog')\"\n",
    "    assert sort_alpha(\"hello, world\") == \"hello, world\", \"Test failed: sort_alpha('hello, world')\"\n",
    "    assert sort_alpha(\"apple, apple, banana\") == \"apple, apple, banana\", \"Test failed: sort_alpha('apple, apple, banana')\"\n",
    "    \n",
    "    print(\"All tests passed!\")\n",
    "\n",
    "test_alpha(sort_alpha)"
   ]
  },
  {
   "cell_type": "code",
   "execution_count": 107,
   "metadata": {},
   "outputs": [
    {
     "name": "stdout",
     "output_type": "stream",
     "text": [
      "best, in, is, pickleball, sport, the, the, world\n"
     ]
    }
   ],
   "source": [
    "print(sort_alpha(\"pickleball, is, the, best, sport, in, the, world\"))"
   ]
  },
  {
   "cell_type": "markdown",
   "metadata": {},
   "source": [
    "## 12. Write a function to check if a given password is strong (at least 8 characters, at least one lower case, at least one upper case, at least one number and at least one special character). It should output True if strong and False if not."
   ]
  },
  {
   "cell_type": "code",
   "execution_count": 113,
   "metadata": {},
   "outputs": [],
   "source": [
    "def check_pass(password):\n",
    "    if len(password) < 8:\n",
    "        return False\n",
    "    \n",
    "    has_lower = False\n",
    "    has_upper = False\n",
    "    has_digit = False\n",
    "    has_special = False\n",
    "    \n",
    "    for char in password:\n",
    "        if char.islower():\n",
    "            has_lower = True\n",
    "        elif char.isupper():\n",
    "            has_upper = True\n",
    "        elif char.isdigit():\n",
    "            has_digit = True\n",
    "        elif char in \"!@#$%^&*()-_=+[]{}|;:,.<>?/\":\n",
    "            has_special = True\n",
    "    \n",
    "    if has_lower and has_upper and has_digit and has_special:\n",
    "        return True\n",
    "    else:\n",
    "        return False"
   ]
  },
  {
   "cell_type": "code",
   "execution_count": 117,
   "metadata": {},
   "outputs": [
    {
     "name": "stdout",
     "output_type": "stream",
     "text": [
      "All tests passed!\n"
     ]
    }
   ],
   "source": [
    "def test_pass(check_pass):\n",
    "    assert check_pass(\"Pickleball1!\") == True, \"Test failed: check_pass('Pickleball1!')\"\n",
    "    assert check_pass(\"weakpassword\") == False, \"Test failed: check_pass('weakpassword')\"\n",
    "    assert check_pass(\"P@ssw0rd\") == True, \"Test failed: check_pass('P@ssw0rd')\"\n",
    "    assert check_pass(\"short1!\") == False, \"Test failed: check_pass('short1!')\"\n",
    "    assert check_pass(\"NoSpecialCharacter1\") == False, \"Test failed: check_pass('NoSpecialCharacter1')\"\n",
    "    \n",
    "    print(\"All tests passed!\")\n",
    "\n",
    "test_pass(check_pass)"
   ]
  },
  {
   "cell_type": "code",
   "execution_count": 119,
   "metadata": {},
   "outputs": [
    {
     "name": "stdout",
     "output_type": "stream",
     "text": [
      "True\n",
      "False\n"
     ]
    }
   ],
   "source": [
    "print(check_pass(\"Pickleball1!\"))\n",
    "print(check_pass(\"pickleball\"))"
   ]
  }
 ],
 "metadata": {
  "kernelspec": {
   "display_name": "Python 3 (ipykernel)",
   "language": "python",
   "name": "python3"
  },
  "language_info": {
   "codemirror_mode": {
    "name": "ipython",
    "version": 3
   },
   "file_extension": ".py",
   "mimetype": "text/x-python",
   "name": "python",
   "nbconvert_exporter": "python",
   "pygments_lexer": "ipython3",
   "version": "3.12.7"
  },
  "vscode": {
   "interpreter": {
    "hash": "aee8b7b246df8f9039afb4144a1f6fd8d2ca17a180786b69acc140d282b71a49"
   }
  }
 },
 "nbformat": 4,
 "nbformat_minor": 4
}
